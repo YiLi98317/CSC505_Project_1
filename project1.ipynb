{
 "cells": [
  {
   "cell_type": "markdown",
   "metadata": {},
   "source": [
    "# Project 1"
   ]
  },
  {
   "cell_type": "markdown",
   "metadata": {},
   "source": [
    "## Data preprocess"
   ]
  },
  {
   "cell_type": "code",
   "execution_count": 8,
   "metadata": {},
   "outputs": [],
   "source": [
    "# get all data dir and write to unzip.sh\n",
    "import os\n",
    "\n",
    "\n",
    "path = \"/Users/liyi/Desktop/Graduate/Spring2022/CSC505Algorithm/Project/project1/project1_data/Project1\"\n",
    "\n",
    "f = open(\"unzip.sh\", \"a\")\n",
    "\n",
    "listOfFiles = list()\n",
    "for (dirpath, dirnames, filenames) in os.walk(path):\n",
    "    listOfFiles += [os.path.join(dirpath, file) for file in filenames]\n",
    "\n",
    "for file in listOfFiles:\n",
    "    f.write(\"gunzip \" + file + \"\\n\")\n",
    "\n",
    "f.close()"
   ]
  },
  {
   "cell_type": "markdown",
   "metadata": {},
   "source": [
    "## Data process"
   ]
  },
  {
   "cell_type": "code",
   "execution_count": 9,
   "metadata": {},
   "outputs": [
    {
     "name": "stdout",
     "output_type": "stream",
     "text": [
      "['/Users/liyi/Desktop/Graduate/Spring2022/CSC505Algorithm/Project/project1/project1_data/Project1/.DS_Store', '/Users/liyi/Desktop/Graduate/Spring2022/CSC505Algorithm/Project/project1/project1_data/Project1/A/4.log', '/Users/liyi/Desktop/Graduate/Spring2022/CSC505Algorithm/Project/project1/project1_data/Project1/A/1048576.log', '/Users/liyi/Desktop/Graduate/Spring2022/CSC505Algorithm/Project/project1/project1_data/Project1/A/2.log', '/Users/liyi/Desktop/Graduate/Spring2022/CSC505Algorithm/Project/project1/project1_data/Project1/A/8192.log', '/Users/liyi/Desktop/Graduate/Spring2022/CSC505Algorithm/Project/project1/project1_data/Project1/A/1.log', '/Users/liyi/Desktop/Graduate/Spring2022/CSC505Algorithm/Project/project1/project1_data/Project1/A/256.log', '/Users/liyi/Desktop/Graduate/Spring2022/CSC505Algorithm/Project/project1/project1_data/Project1/A/4096.log', '/Users/liyi/Desktop/Graduate/Spring2022/CSC505Algorithm/Project/project1/project1_data/Project1/A/4194304.log', '/Users/liyi/Desktop/Graduate/Spring2022/CSC505Algorithm/Project/project1/project1_data/Project1/A/32.log', '/Users/liyi/Desktop/Graduate/Spring2022/CSC505Algorithm/Project/project1/project1_data/Project1/A/2097152.log', '/Users/liyi/Desktop/Graduate/Spring2022/CSC505Algorithm/Project/project1/project1_data/Project1/A/128.log', '/Users/liyi/Desktop/Graduate/Spring2022/CSC505Algorithm/Project/project1/project1_data/Project1/A/512.log', '/Users/liyi/Desktop/Graduate/Spring2022/CSC505Algorithm/Project/project1/project1_data/Project1/A/131072.log', '/Users/liyi/Desktop/Graduate/Spring2022/CSC505Algorithm/Project/project1/project1_data/Project1/A/16.log', '/Users/liyi/Desktop/Graduate/Spring2022/CSC505Algorithm/Project/project1/project1_data/Project1/A/65536.log', '/Users/liyi/Desktop/Graduate/Spring2022/CSC505Algorithm/Project/project1/project1_data/Project1/A/524288.log', '/Users/liyi/Desktop/Graduate/Spring2022/CSC505Algorithm/Project/project1/project1_data/Project1/A/2048.log', '/Users/liyi/Desktop/Graduate/Spring2022/CSC505Algorithm/Project/project1/project1_data/Project1/A/1024.log', '/Users/liyi/Desktop/Graduate/Spring2022/CSC505Algorithm/Project/project1/project1_data/Project1/A/16384.log', '/Users/liyi/Desktop/Graduate/Spring2022/CSC505Algorithm/Project/project1/project1_data/Project1/A/64.log', '/Users/liyi/Desktop/Graduate/Spring2022/CSC505Algorithm/Project/project1/project1_data/Project1/A/8.log', '/Users/liyi/Desktop/Graduate/Spring2022/CSC505Algorithm/Project/project1/project1_data/Project1/A/32768.log', '/Users/liyi/Desktop/Graduate/Spring2022/CSC505Algorithm/Project/project1/project1_data/Project1/A/262144.log', '/Users/liyi/Desktop/Graduate/Spring2022/CSC505Algorithm/Project/project1/project1_data/Project1/C/4.log', '/Users/liyi/Desktop/Graduate/Spring2022/CSC505Algorithm/Project/project1/project1_data/Project1/C/1048576.log', '/Users/liyi/Desktop/Graduate/Spring2022/CSC505Algorithm/Project/project1/project1_data/Project1/C/2.log', '/Users/liyi/Desktop/Graduate/Spring2022/CSC505Algorithm/Project/project1/project1_data/Project1/C/8192.log', '/Users/liyi/Desktop/Graduate/Spring2022/CSC505Algorithm/Project/project1/project1_data/Project1/C/1.log', '/Users/liyi/Desktop/Graduate/Spring2022/CSC505Algorithm/Project/project1/project1_data/Project1/C/256.log', '/Users/liyi/Desktop/Graduate/Spring2022/CSC505Algorithm/Project/project1/project1_data/Project1/C/4096.log', '/Users/liyi/Desktop/Graduate/Spring2022/CSC505Algorithm/Project/project1/project1_data/Project1/C/4194304.log', '/Users/liyi/Desktop/Graduate/Spring2022/CSC505Algorithm/Project/project1/project1_data/Project1/C/32.log', '/Users/liyi/Desktop/Graduate/Spring2022/CSC505Algorithm/Project/project1/project1_data/Project1/C/2097152.log', '/Users/liyi/Desktop/Graduate/Spring2022/CSC505Algorithm/Project/project1/project1_data/Project1/C/128.log', '/Users/liyi/Desktop/Graduate/Spring2022/CSC505Algorithm/Project/project1/project1_data/Project1/C/512.log', '/Users/liyi/Desktop/Graduate/Spring2022/CSC505Algorithm/Project/project1/project1_data/Project1/C/131072.log', '/Users/liyi/Desktop/Graduate/Spring2022/CSC505Algorithm/Project/project1/project1_data/Project1/C/16.log', '/Users/liyi/Desktop/Graduate/Spring2022/CSC505Algorithm/Project/project1/project1_data/Project1/C/65536.log', '/Users/liyi/Desktop/Graduate/Spring2022/CSC505Algorithm/Project/project1/project1_data/Project1/C/524288.log', '/Users/liyi/Desktop/Graduate/Spring2022/CSC505Algorithm/Project/project1/project1_data/Project1/C/2048.log', '/Users/liyi/Desktop/Graduate/Spring2022/CSC505Algorithm/Project/project1/project1_data/Project1/C/1024.log', '/Users/liyi/Desktop/Graduate/Spring2022/CSC505Algorithm/Project/project1/project1_data/Project1/C/16384.log', '/Users/liyi/Desktop/Graduate/Spring2022/CSC505Algorithm/Project/project1/project1_data/Project1/C/64.log', '/Users/liyi/Desktop/Graduate/Spring2022/CSC505Algorithm/Project/project1/project1_data/Project1/C/8.log', '/Users/liyi/Desktop/Graduate/Spring2022/CSC505Algorithm/Project/project1/project1_data/Project1/C/32768.log', '/Users/liyi/Desktop/Graduate/Spring2022/CSC505Algorithm/Project/project1/project1_data/Project1/C/262144.log', '/Users/liyi/Desktop/Graduate/Spring2022/CSC505Algorithm/Project/project1/project1_data/Project1/B/4.log', '/Users/liyi/Desktop/Graduate/Spring2022/CSC505Algorithm/Project/project1/project1_data/Project1/B/1048576.log', '/Users/liyi/Desktop/Graduate/Spring2022/CSC505Algorithm/Project/project1/project1_data/Project1/B/2.log', '/Users/liyi/Desktop/Graduate/Spring2022/CSC505Algorithm/Project/project1/project1_data/Project1/B/8192.log', '/Users/liyi/Desktop/Graduate/Spring2022/CSC505Algorithm/Project/project1/project1_data/Project1/B/1.log', '/Users/liyi/Desktop/Graduate/Spring2022/CSC505Algorithm/Project/project1/project1_data/Project1/B/256.log', '/Users/liyi/Desktop/Graduate/Spring2022/CSC505Algorithm/Project/project1/project1_data/Project1/B/4096.log', '/Users/liyi/Desktop/Graduate/Spring2022/CSC505Algorithm/Project/project1/project1_data/Project1/B/4194304.log', '/Users/liyi/Desktop/Graduate/Spring2022/CSC505Algorithm/Project/project1/project1_data/Project1/B/32.log', '/Users/liyi/Desktop/Graduate/Spring2022/CSC505Algorithm/Project/project1/project1_data/Project1/B/2097152.log', '/Users/liyi/Desktop/Graduate/Spring2022/CSC505Algorithm/Project/project1/project1_data/Project1/B/128.log', '/Users/liyi/Desktop/Graduate/Spring2022/CSC505Algorithm/Project/project1/project1_data/Project1/B/512.log', '/Users/liyi/Desktop/Graduate/Spring2022/CSC505Algorithm/Project/project1/project1_data/Project1/B/131072.log', '/Users/liyi/Desktop/Graduate/Spring2022/CSC505Algorithm/Project/project1/project1_data/Project1/B/16.log', '/Users/liyi/Desktop/Graduate/Spring2022/CSC505Algorithm/Project/project1/project1_data/Project1/B/65536.log', '/Users/liyi/Desktop/Graduate/Spring2022/CSC505Algorithm/Project/project1/project1_data/Project1/B/524288.log', '/Users/liyi/Desktop/Graduate/Spring2022/CSC505Algorithm/Project/project1/project1_data/Project1/B/2048.log', '/Users/liyi/Desktop/Graduate/Spring2022/CSC505Algorithm/Project/project1/project1_data/Project1/B/1024.log', '/Users/liyi/Desktop/Graduate/Spring2022/CSC505Algorithm/Project/project1/project1_data/Project1/B/16384.log', '/Users/liyi/Desktop/Graduate/Spring2022/CSC505Algorithm/Project/project1/project1_data/Project1/B/64.log', '/Users/liyi/Desktop/Graduate/Spring2022/CSC505Algorithm/Project/project1/project1_data/Project1/B/8.log', '/Users/liyi/Desktop/Graduate/Spring2022/CSC505Algorithm/Project/project1/project1_data/Project1/B/32768.log', '/Users/liyi/Desktop/Graduate/Spring2022/CSC505Algorithm/Project/project1/project1_data/Project1/B/262144.log']\n"
     ]
    }
   ],
   "source": [
    "# utility func to get all data file\n",
    "listOfFiles = list()\n",
    "for (dirpath, dirnames, filenames) in os.walk(path):\n",
    "    listOfFiles += [os.path.join(dirpath, file) for file in filenames]\n",
    "\n"
   ]
  },
  {
   "cell_type": "markdown",
   "metadata": {},
   "source": [
    "### Insertion sort"
   ]
  },
  {
   "cell_type": "markdown",
   "metadata": {},
   "source": [
    "mark\n"
   ]
  },
  {
   "cell_type": "code",
   "execution_count": null,
   "metadata": {},
   "outputs": [],
   "source": [
    "## "
   ]
  },
  {
   "cell_type": "markdown",
   "metadata": {},
   "source": [
    "### Merge sort"
   ]
  },
  {
   "cell_type": "code",
   "execution_count": null,
   "metadata": {},
   "outputs": [],
   "source": []
  },
  {
   "cell_type": "markdown",
   "metadata": {},
   "source": [
    "### Adaptive sort"
   ]
  },
  {
   "cell_type": "code",
   "execution_count": null,
   "metadata": {},
   "outputs": [],
   "source": []
  }
 ],
 "metadata": {
  "interpreter": {
   "hash": "3d894767a748ae32987cbebeaec93efb51fe7a630f5d0166a60f00b04d640165"
  },
  "kernelspec": {
   "display_name": "Python 3.8.8 ('base')",
   "language": "python",
   "name": "python3"
  },
  "language_info": {
   "codemirror_mode": {
    "name": "ipython",
    "version": 3
   },
   "file_extension": ".py",
   "mimetype": "text/x-python",
   "name": "python",
   "nbconvert_exporter": "python",
   "pygments_lexer": "ipython3",
   "version": "3.8.8"
  },
  "orig_nbformat": 4
 },
 "nbformat": 4,
 "nbformat_minor": 2
}
