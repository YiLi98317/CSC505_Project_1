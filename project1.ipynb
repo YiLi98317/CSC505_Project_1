{
 "cells": [
  {
   "cell_type": "markdown",
   "metadata": {},
   "source": [
    "# Project 1"
   ]
  },
  {
   "cell_type": "markdown",
   "metadata": {},
   "source": [
    "## Data preprocess"
   ]
  },
  {
   "cell_type": "code",
   "execution_count": 247,
   "metadata": {},
   "outputs": [],
   "source": [
    "# get all data dir and write to unzip.sh\n",
    "import os\n",
    "import time\n",
    "#import matplotlib\n",
    "from matplotlib import pyplot as plt\n",
    "import sorting"
   ]
  },
  {
   "cell_type": "code",
   "execution_count": 248,
   "metadata": {},
   "outputs": [],
   "source": [
    "path = \"./Project1\"\n",
    "\n",
    "# f = open(\"unzip.sh\", \"a\")\n",
    "\n",
    "# listOfFiles = list()\n",
    "# for (dirpath, dirnames, filenames) in os.walk(path):\n",
    "#     listOfFiles += [os.path.join(dirpath, file) for file in filenames]\n",
    "\n",
    "# for file in listOfFiles:\n",
    "#     f.write(\"gunzip \" + file + \"\\n\")\n",
    "\n",
    "# f.close()"
   ]
  },
  {
   "cell_type": "markdown",
   "metadata": {},
   "source": [
    "## Data process"
   ]
  },
  {
   "cell_type": "code",
   "execution_count": 249,
   "metadata": {},
   "outputs": [],
   "source": [
    "# utility func to get all data file\n",
    "pathA = path+\"/A\"\n",
    "pathB = path+\"/B\"\n",
    "pathC = path+\"/C\"\n",
    "\n",
    "logsA = list()\n",
    "logsB = list()\n",
    "logsC = list()\n",
    "for (dirpath, dirnames, filenames) in os.walk(pathA):\n",
    "    logsA += [os.path.join(dirpath, file) for file in filenames]\n",
    "\n",
    "for (dirpath, dirnames, filenames) in os.walk(pathB):\n",
    "    logsB += [os.path.join(dirpath, file) for file in filenames]\n",
    "\n",
    "for (dirpath, dirnames, filenames) in os.walk(pathC):\n",
    "    logsC += [os.path.join(dirpath, file) for file in filenames]\n",
    "\n",
    "lenA = len(logsA)\n",
    "lenB = len(logsB)\n",
    "lenC = len(logsC)\n",
    "#print(lenA + lenB + lenC)"
   ]
  },
  {
   "cell_type": "markdown",
   "metadata": {},
   "source": [
    "### Utility: Get data"
   ]
  },
  {
   "cell_type": "code",
   "execution_count": 250,
   "metadata": {},
   "outputs": [],
   "source": [
    "import gzip\n",
    "def getData(idx, pathlist):\n",
    "    length = len(pathlist)\n",
    "    if(idx < 0 or idx >= length):\n",
    "        print(\"index out of bound: \", idx)\n",
    "        return None\n",
    "\n",
    "    stamp = []\n",
    "    data = []\n",
    "\n",
    "    path = pathlist[idx]\n",
    "    with gzip.open(path, \"rt\", encoding = 'latin1') as currLog:\n",
    "        for line in currLog:\n",
    "            # get first 19 characters and convert to timestamp\n",
    "            stringTime = line[:19]\n",
    "            data.append(line)\n",
    "            try:\n",
    "                t = time.strptime(stringTime[0:19], '%Y-%m-%dT%H:%M:%S')\n",
    "                timeStamp = int(time.mktime(t))     \n",
    "                # add time stamp to data\n",
    "                stamp.append(timeStamp)\n",
    "\n",
    "            except ValueError:\n",
    "                pass\n",
    "\n",
    "    return data, stamp"
   ]
  },
  {
   "cell_type": "markdown",
   "metadata": {},
   "source": [
    "### Utility: plot chart"
   ]
  },
  {
   "cell_type": "code",
   "execution_count": 251,
   "metadata": {},
   "outputs": [],
   "source": [
    "def plot(xSet, ySet, title):\n",
    "    # plt.plot(sizeSet, timeSet)   #, label='y = x'\n",
    "    plt.scatter(xSet, ySet)\n",
    "    plt.title(title)\n",
    "    plt.xlabel('Input size')\n",
    "    plt.ylabel('Time spent (sec)')\n",
    "    plt.show()"
   ]
  },
  {
   "cell_type": "markdown",
   "metadata": {},
   "source": [
    "### Utility: Is sorted?"
   ]
  },
  {
   "cell_type": "code",
   "execution_count": 252,
   "metadata": {},
   "outputs": [],
   "source": [
    "def isSorted(stamp):\n",
    "    for i in range(1, len(stamp)-1):\n",
    "        if stamp[i]>stamp[i+1]:\n",
    "            return False\n",
    "    return True"
   ]
  },
  {
   "cell_type": "markdown",
   "metadata": {},
   "source": [
    "## Insertion sort"
   ]
  },
  {
   "cell_type": "markdown",
   "metadata": {},
   "source": [
    "mark\n"
   ]
  },
  {
   "cell_type": "code",
   "execution_count": 253,
   "metadata": {},
   "outputs": [],
   "source": [
    "def insertionSort(data,stamp):\n",
    " \n",
    "    for i in range(1, len(stamp)):\n",
    " \n",
    "        tmpStamp = stamp[i]\n",
    "        tmpdata = data[i]\n",
    "        j = i-1\n",
    "        while j >= 0 and tmpStamp < stamp[j] :\n",
    "                stamp[j + 1] = stamp[j]\n",
    "                data[j + 1] = data[j]\n",
    "                j -= 1\n",
    "        stamp[j + 1] = tmpStamp\n",
    "        data[j + 1] = tmpdata\n",
    "    return data,stamp"
   ]
  },
  {
   "cell_type": "code",
   "execution_count": 254,
   "metadata": {},
   "outputs": [],
   "source": [
    "def Sort(logs):\n",
    "    sizeSet = []\n",
    "    timeSet = []\n",
    "    \n",
    "    for logIdx in range(len(logs)):\n",
    "        data, stamp = getData(logIdx, logs)\n",
    "        size = len(data)\n",
    "        sizeSet.append(size)\n",
    "        currTime = time.time()\n",
    "\n",
    "        insertionSort(data, stamp)\n",
    "        \n",
    "        endTime = time.time()\n",
    "        timeSet.append(endTime - currTime)\n",
    "        \n",
    "        if isSorted(stamp):\n",
    "            print(\"File %d.log is sorted\" %size)\n",
    "        else:\n",
    "            print(\"File %d.log is not sorted\" %size)\n",
    "    return sizeSet, timeSet\n",
    "    \n",
    "    "
   ]
  },
  {
   "cell_type": "code",
   "execution_count": 255,
   "metadata": {},
   "outputs": [
    {
     "name": "stdout",
     "output_type": "stream",
     "text": [
      "File 1.log is sorted\n",
      "File 1024.log is sorted\n",
      "File 128.log is sorted\n",
      "File 16.log is sorted\n",
      "File 2.log is sorted\n",
      "File 2048.log is sorted\n",
      "File 256.log is sorted\n",
      "File 32.log is sorted\n",
      "File 4.log is sorted\n",
      "File 512.log is sorted\n",
      "File 64.log is sorted\n",
      "File 8.log is sorted\n"
     ]
    }
   ],
   "source": [
    "sizeSetA, timeSetA = Sort(logsA)"
   ]
  },
  {
   "cell_type": "code",
   "execution_count": 256,
   "metadata": {},
   "outputs": [
    {
     "data": {
      "image/png": "[encoded data removed]",
      "text/plain": [
       "<Figure size 432x288 with 1 Axes>"
      ]
     },
     "metadata": {
      "needs_background": "light"
     },
     "output_type": "display_data"
    }
   ],
   "source": [
    "plot(sizeSetA, timeSetA, \"Insertion Sort on Data Set A\")"
   ]
  },
  {
   "cell_type": "markdown",
   "metadata": {},
   "source": [
    "## Merge sort"
   ]
  },
  {
   "cell_type": "markdown",
   "metadata": {},
   "source": [
    "### Utility: test data set"
   ]
  },
  {
   "cell_type": "code",
   "execution_count": 257,
   "metadata": {},
   "outputs": [],
   "source": [
    "def test(logs):\n",
    "    sizeSet = []\n",
    "    timeSet = []\n",
    "    for logIdx in range(len(logs)):\n",
    "        data,stamp = getData(logIdx, logs)\n",
    "        sizeSet.append(len(data))\n",
    "        currTime = time.time()\n",
    "        sorting.merge(stamp)\n",
    "        \n",
    "        endTime = time.time()\n",
    "        timeSet.append(endTime - currTime)\n",
    "        # print(\"curr log: %d, time spent: %d, total time: %d\" %(logIdx, endTime - currTime, endTime - totalStart))\n",
    "\n",
    "    return sizeSet, timeSet\n",
    "    # print()\n",
    "    "
   ]
  },
  {
   "cell_type": "markdown",
   "metadata": {},
   "source": [
    "#### Data set A"
   ]
  },
  {
   "cell_type": "code",
   "execution_count": 258,
   "metadata": {},
   "outputs": [],
   "source": [
    "sizeSetA, timeSetA = test(logsA)"
   ]
  },
  {
   "cell_type": "code",
   "execution_count": 259,
   "metadata": {},
   "outputs": [
    {
     "data": {
      "image/png": "[encoded data removed]",
      "text/plain": [
       "<Figure size 432x288 with 1 Axes>"
      ]
     },
     "metadata": {
      "needs_background": "light"
     },
     "output_type": "display_data"
    }
   ],
   "source": [
    "plot(sizeSetA, timeSetA, \"Merge Sort on Data Set A\")"
   ]
  },
  {
   "cell_type": "markdown",
   "metadata": {},
   "source": [
    "#### Data set B"
   ]
  },
  {
   "cell_type": "code",
   "execution_count": 260,
   "metadata": {},
   "outputs": [],
   "source": [
    "#sizeSetB, timeSetB = test(logsB)"
   ]
  },
  {
   "cell_type": "code",
   "execution_count": 261,
   "metadata": {},
   "outputs": [],
   "source": [
    "#plot(sizeSetB, timeSetB, \"Merge Sort on Data Set B\")"
   ]
  },
  {
   "cell_type": "markdown",
   "metadata": {},
   "source": [
    "#### Data set C"
   ]
  },
  {
   "cell_type": "code",
   "execution_count": 262,
   "metadata": {},
   "outputs": [],
   "source": [
    "#sizeSetC, timeSetC = test(logsC)"
   ]
  },
  {
   "cell_type": "code",
   "execution_count": 263,
   "metadata": {},
   "outputs": [],
   "source": [
    "#plot(sizeSetC, timeSetC, \"Merge Sort on Data Set C\")"
   ]
  },
  {
   "cell_type": "markdown",
   "metadata": {},
   "source": [
    "## Adaptive sort\n",
    "Using python built-in sort() algorithm which is Timsort"
   ]
  },
  {
   "cell_type": "markdown",
   "metadata": {},
   "source": [
    "### Utility: test data set"
   ]
  },
  {
   "cell_type": "code",
   "execution_count": 264,
   "metadata": {},
   "outputs": [],
   "source": [
    "def test(logs):\n",
    "    sizeSet = []\n",
    "    timeSet = []\n",
    "    for logIdx in range(len(logs)):\n",
    "        data,stamp = getData(logIdx, logs)\n",
    "        sizeSet.append(len(data))\n",
    "        currTime = time.time()\n",
    "\n",
    "        stamp.sort()\n",
    "        \n",
    "        endTime = time.time()\n",
    "        timeSet.append(endTime - currTime)\n",
    "        # print(\"curr log: %d, time spent: %d, total time: %d\" %(logIdx, endTime - currTime, endTime - totalStart))\n",
    "\n",
    "    return sizeSet, timeSet\n",
    "    # print()\n",
    "    "
   ]
  },
  {
   "cell_type": "markdown",
   "metadata": {},
   "source": [
    "#### Data set A"
   ]
  },
  {
   "cell_type": "code",
   "execution_count": 265,
   "metadata": {},
   "outputs": [],
   "source": [
    "sizeSetA, timeSetA = test(logsA)"
   ]
  },
  {
   "cell_type": "code",
   "execution_count": 266,
   "metadata": {},
   "outputs": [
    {
     "data": {
      "image/png": "[encoded data removed]",
      "text/plain": [
       "<Figure size 432x288 with 1 Axes>"
      ]
     },
     "metadata": {
      "needs_background": "light"
     },
     "output_type": "display_data"
    }
   ],
   "source": [
    "plot(sizeSetA, timeSetA, \"Adaptive Sort on Data Set A\")"
   ]
  },
  {
   "cell_type": "markdown",
   "metadata": {},
   "source": [
    "#### Data set B"
   ]
  },
  {
   "cell_type": "code",
   "execution_count": 267,
   "metadata": {},
   "outputs": [],
   "source": [
    "#sizeSetB, timeSetB = test(logsB)"
   ]
  },
  {
   "cell_type": "code",
   "execution_count": 268,
   "metadata": {},
   "outputs": [],
   "source": [
    "#plot(sizeSetB, timeSetB, \"Adaptive Sort on Data Set B\")"
   ]
  },
  {
   "cell_type": "markdown",
   "metadata": {},
   "source": [
    "#### Data set C"
   ]
  },
  {
   "cell_type": "code",
   "execution_count": 269,
   "metadata": {},
   "outputs": [],
   "source": [
    "#sizeSetC, timeSetC = test(logsC)"
   ]
  },
  {
   "cell_type": "code",
   "execution_count": 270,
   "metadata": {},
   "outputs": [],
   "source": [
    "#plot(sizeSetC, timeSetC, \"Adaptive Sort on Data Set C\")"
   ]
  }
 ],
 "metadata": {
  "interpreter": {
   "hash": "3d894767a748ae32987cbebeaec93efb51fe7a630f5d0166a60f00b04d640165"
  },
  "kernelspec": {
   "display_name": "Python 3.8.8 ('base')",
   "language": "python",
   "name": "python3"
  },
  "language_info": {
   "codemirror_mode": {
    "name": "ipython",
    "version": 3
   },
   "file_extension": ".py",
   "mimetype": "text/x-python",
   "name": "python",
   "nbconvert_exporter": "python",
   "pygments_lexer": "ipython3",
   "version": "3.10.2"
  },
  "orig_nbformat": 4
 },
 "nbformat": 4,
 "nbformat_minor": 2
}
