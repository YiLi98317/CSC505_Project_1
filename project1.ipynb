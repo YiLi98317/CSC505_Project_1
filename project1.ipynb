{
 "cells": [
  {
   "cell_type": "markdown",
   "metadata": {},
   "source": [
    "# Project 1"
   ]
  },
  {
   "cell_type": "markdown",
   "metadata": {},
   "source": [
    "## Data preprocess"
   ]
  },
  {
   "cell_type": "code",
   "execution_count": 7,
   "metadata": {},
   "outputs": [],
   "source": [
    "# get all data dir and write to unzip.sh\n",
    "import os\n",
    "import time\n",
    "import datetime\n",
    "from matplotlib import pyplot as plt\n",
    "import sorting"
   ]
  },
  {
   "cell_type": "code",
   "execution_count": 8,
   "metadata": {},
   "outputs": [],
   "source": [
    "path = \"/Users/liyi/Desktop/Graduate/Spring2022/CSC505Algorithm/Project/project1/project1_data/Project1\"\n",
    "\n",
    "f = open(\"unzip.sh\", \"a\")\n",
    "\n",
    "listOfFiles = list()\n",
    "for (dirpath, dirnames, filenames) in os.walk(path):\n",
    "    listOfFiles += [os.path.join(dirpath, file) for file in filenames]\n",
    "\n",
    "for file in listOfFiles:\n",
    "    f.write(\"gunzip \" + file + \"\\n\")\n",
    "\n",
    "f.close()"
   ]
  },
  {
   "cell_type": "markdown",
   "metadata": {},
   "source": [
    "## Data process"
   ]
  },
  {
   "cell_type": "code",
   "execution_count": 9,
   "metadata": {},
   "outputs": [],
   "source": [
    "# utility func to get all data file\n",
    "pathA = path+\"/A\"\n",
    "pathB = path+\"/B\"\n",
    "pathC = path+\"/C\"\n",
    "\n",
    "logsA = list()\n",
    "logsB = list()\n",
    "logsC = list()\n",
    "for (dirpath, dirnames, filenames) in os.walk(pathA):\n",
    "    logsA += [os.path.join(dirpath, file) for file in filenames]\n",
    "\n",
    "for (dirpath, dirnames, filenames) in os.walk(pathB):\n",
    "    logsB += [os.path.join(dirpath, file) for file in filenames]\n",
    "\n",
    "for (dirpath, dirnames, filenames) in os.walk(pathC):\n",
    "    logsC += [os.path.join(dirpath, file) for file in filenames]\n",
    "\n",
    "lenA = len(logsA)\n",
    "lenB = len(logsB)\n",
    "lenC = len(logsC)\n",
    "# print(lenA + lenB + lenC)"
   ]
  },
  {
   "cell_type": "code",
   "execution_count": 10,
   "metadata": {},
   "outputs": [
    {
     "name": "stdout",
     "output_type": "stream",
     "text": [
      "1440315385.0\n"
     ]
    }
   ],
   "source": [
    "string = \"2015-08-23T03:36:25-05:00 10.108.69.93 sshd[16537]: Did not receive identification string from 208.43.117.11\"\n",
    "string = string[:19]\n",
    "  \n",
    "element = datetime.datetime.strptime(string,\"%Y-%m-%dT%H:%M:%S\")\n",
    "  \n",
    "timestamp = datetime.datetime.timestamp(element)\n",
    "print(timestamp)"
   ]
  },
  {
   "cell_type": "markdown",
   "metadata": {},
   "source": [
    "### Utility: Get data"
   ]
  },
  {
   "cell_type": "code",
   "execution_count": 11,
   "metadata": {},
   "outputs": [],
   "source": [
    "#utility func to get data from target log\n",
    "#input: logFile index, logFile paths\n",
    "#output: data array\n",
    "def getData(idx, pathlist):\n",
    "    length = len(pathlist)\n",
    "    if(idx < 0 or idx >= length):\n",
    "        print(\"index out of bound: \", idx)\n",
    "        return None\n",
    "\n",
    "    data = []\n",
    "\n",
    "    path = pathlist[idx]\n",
    "    with open(path, \"r\", encoding = 'iso8859_15') as currLog:\n",
    "        for line in currLog:\n",
    "            # get first 19 characters and convert to timestamp\n",
    "            line = line[:19]\n",
    "            line_element = datetime.datetime.strptime(string,\"%Y-%m-%dT%H:%M:%S\")\n",
    "            timestamp = datetime.datetime.timestamp(line_element)\n",
    "\n",
    "            # add time stamp to data\n",
    "            data.append(timestamp)\n",
    "\n",
    "    return data"
   ]
  },
  {
   "cell_type": "markdown",
   "metadata": {},
   "source": [
    "### Utility: plot chart"
   ]
  },
  {
   "cell_type": "code",
   "execution_count": 12,
   "metadata": {},
   "outputs": [],
   "source": [
    "def plot(xSet, ySet):\n",
    "    # plt.plot(sizeSet, timeSet)   #, label='y = x'\n",
    "    plt.scatter(xSet, ySet)\n",
    "    plt.title('Adaptive sort on data set A')\n",
    "    plt.xlabel('Input size')\n",
    "    plt.ylabel('Time spent')\n",
    "    plt.show()"
   ]
  },
  {
   "cell_type": "markdown",
   "metadata": {},
   "source": [
    "## Insertion sort"
   ]
  },
  {
   "cell_type": "markdown",
   "metadata": {},
   "source": [
    "### Utility: Insertion sort implementation"
   ]
  },
  {
   "cell_type": "code",
   "execution_count": 13,
   "metadata": {},
   "outputs": [],
   "source": [
    "# def insertionSort(list):\n",
    "#     for index in range(1, len(list)):\n",
    "#         currVal = list[index]\n",
    "#         pos = index\n",
    "\n",
    "#         while pos > 0 and list[pos-1] > currVal:\n",
    "#             list[pos] = list[pos - 1]\n",
    "#             pos = pos - 1\n",
    "#         list[pos] = currVal"
   ]
  },
  {
   "cell_type": "code",
   "execution_count": 14,
   "metadata": {},
   "outputs": [],
   "source": [
    "# Python program for implementation of Insertion Sort\n",
    " \n",
    "# Function to do insertion sort\n",
    "def insertionSort(arr):\n",
    " \n",
    "    # Traverse through 1 to len(arr)\n",
    "    for i in range(1, len(arr)):\n",
    " \n",
    "        key = arr[i]\n",
    " \n",
    "        # Move elements of arr[0..i-1], that are\n",
    "        # greater than key, to one position ahead\n",
    "        # of their current position\n",
    "        j = i-1\n",
    "        while j >= 0 and key < arr[j] :\n",
    "                arr[j + 1] = arr[j]\n",
    "                j -= 1\n",
    "        arr[j + 1] = key"
   ]
  },
  {
   "cell_type": "markdown",
   "metadata": {},
   "source": [
    "### Utility: test data set"
   ]
  },
  {
   "cell_type": "code",
   "execution_count": 15,
   "metadata": {},
   "outputs": [],
   "source": [
    "def testInsertion(logs):\n",
    "    sizeSet = []\n",
    "    timeSet = []\n",
    "    for logIdx in range(len(logs)):\n",
    "        data = getData(logIdx, logs)\n",
    "        sizeSet.append(len(data))\n",
    "        currTime = time.time()\n",
    "\n",
    "        insertionSort(data)\n",
    "        \n",
    "        endTime = time.time()\n",
    "        timeSet.append(endTime - currTime)\n",
    "        # print(\"curr log: %d, time spent: %d, total time: %d\" %(logIdx, endTime - currTime, endTime - totalStart))\n",
    "\n",
    "    return sizeSet, timeSet\n",
    "    # print()\n",
    "    "
   ]
  },
  {
   "cell_type": "markdown",
   "metadata": {},
   "source": [
    "#### Data set A"
   ]
  },
  {
   "cell_type": "code",
   "execution_count": 16,
   "metadata": {},
   "outputs": [],
   "source": [
    "# idx = 1\n",
    "# data = getData(idx, logsA)\n",
    "# print(len(data))\n",
    "# print(logsA[idx])\n",
    "# insertionSort(data)"
   ]
  },
  {
   "cell_type": "code",
   "execution_count": 17,
   "metadata": {},
   "outputs": [],
   "source": [
    "# for idx in range(len(logsA)):\n",
    "#     data = getData(idx, logsA)\n",
    "\n",
    "#     currTime = time.time()\n",
    "#     insertionSort(data)\n",
    "#     endTime = time.time()\n",
    "#     print(logsA[idx])\n",
    "#     print(\"curr log: %d, time spent: %d\" %(idx, endTime - currTime))"
   ]
  },
  {
   "cell_type": "code",
   "execution_count": 18,
   "metadata": {},
   "outputs": [],
   "source": [
    "#sizeSetA, timeSetA = testInsertion(logsA)"
   ]
  },
  {
   "cell_type": "code",
   "execution_count": 19,
   "metadata": {},
   "outputs": [],
   "source": [
    "#plot(sizeSetA, timeSetA)"
   ]
  },
  {
   "cell_type": "markdown",
   "metadata": {},
   "source": [
    "#### Data set B"
   ]
  },
  {
   "cell_type": "code",
   "execution_count": 20,
   "metadata": {},
   "outputs": [],
   "source": [
    "#sizeSetB, timeSetB = testInsertion(logsB)"
   ]
  },
  {
   "cell_type": "code",
   "execution_count": 21,
   "metadata": {},
   "outputs": [],
   "source": [
    "#plot(sizeSetB, timeSetB)"
   ]
  },
  {
   "cell_type": "markdown",
   "metadata": {},
   "source": [
    "#### Data set C"
   ]
  },
  {
   "cell_type": "code",
   "execution_count": 22,
   "metadata": {},
   "outputs": [],
   "source": [
    "#sizeSetC, timeSetC = testInsertion(logsC)"
   ]
  },
  {
   "cell_type": "code",
   "execution_count": 23,
   "metadata": {},
   "outputs": [],
   "source": [
    "#plot(sizeSetC, timeSetC)"
   ]
  },
  {
   "cell_type": "markdown",
   "metadata": {},
   "source": [
    "## Merge sort"
   ]
  },
  {
   "cell_type": "markdown",
   "metadata": {},
   "source": [
    "### Utility: test data set"
   ]
  },
  {
   "cell_type": "code",
   "execution_count": 24,
   "metadata": {},
   "outputs": [],
   "source": [
    "def testMerge(logs):\n",
    "    sizeSet = []\n",
    "    timeSet = []\n",
    "    for logIdx in range(len(logs)):\n",
    "        data = getData(logIdx, logs)\n",
    "        sizeSet.append(len(data))\n",
    "        currTime = time.time()\n",
    "\n",
    "        sorting.merge(data)\n",
    "        \n",
    "        endTime = time.time()\n",
    "        timeSet.append(endTime - currTime)\n",
    "        # print(\"curr log: %d, time spent: %d, total time: %d\" %(logIdx, endTime - currTime, endTime - totalStart))\n",
    "\n",
    "    return sizeSet, timeSet\n",
    "    # print()\n",
    "    "
   ]
  },
  {
   "cell_type": "markdown",
   "metadata": {},
   "source": [
    "#### Data set A"
   ]
  },
  {
   "cell_type": "code",
   "execution_count": 25,
   "metadata": {},
   "outputs": [],
   "source": [
    "sizeSetA, timeSetA = testMerge(logsA)"
   ]
  },
  {
   "cell_type": "code",
   "execution_count": 26,
   "metadata": {},
   "outputs": [
    {
     "data": {
      "image/png": "[encoded data removed]",
      "text/plain": [
       "<Figure size 432x288 with 1 Axes>"
      ]
     },
     "metadata": {
      "needs_background": "light"
     },
     "output_type": "display_data"
    }
   ],
   "source": [
    "plot(sizeSetA, timeSetA)"
   ]
  },
  {
   "cell_type": "markdown",
   "metadata": {},
   "source": [
    "#### Data set B"
   ]
  },
  {
   "cell_type": "code",
   "execution_count": 27,
   "metadata": {},
   "outputs": [],
   "source": [
    "sizeSetB, timeSetB = testMerge(logsB)"
   ]
  },
  {
   "cell_type": "code",
   "execution_count": 28,
   "metadata": {},
   "outputs": [
    {
     "data": {
      "image/png": "[encoded data removed]",
      "text/plain": [
       "<Figure size 432x288 with 1 Axes>"
      ]
     },
     "metadata": {
      "needs_background": "light"
     },
     "output_type": "display_data"
    }
   ],
   "source": [
    "plot(sizeSetB, timeSetB)"
   ]
  },
  {
   "cell_type": "markdown",
   "metadata": {},
   "source": [
    "#### Data set C"
   ]
  },
  {
   "cell_type": "code",
   "execution_count": 29,
   "metadata": {},
   "outputs": [],
   "source": [
    "sizeSetC, timeSetC = testMerge(logsC)"
   ]
  },
  {
   "cell_type": "code",
   "execution_count": 30,
   "metadata": {},
   "outputs": [
    {
     "data": {
      "image/png": "[encoded data removed]",
      "text/plain": [
       "<Figure size 432x288 with 1 Axes>"
      ]
     },
     "metadata": {
      "needs_background": "light"
     },
     "output_type": "display_data"
    }
   ],
   "source": [
    "plot(sizeSetC, timeSetC)"
   ]
  },
  {
   "cell_type": "markdown",
   "metadata": {},
   "source": [
    "## Adaptive sort\n",
    "Using python built-in sort() algorithm which is Timsort"
   ]
  },
  {
   "cell_type": "markdown",
   "metadata": {},
   "source": [
    "### Utility: test data set"
   ]
  },
  {
   "cell_type": "code",
   "execution_count": 31,
   "metadata": {},
   "outputs": [],
   "source": [
    "def testTim(logs):\n",
    "    sizeSet = []\n",
    "    timeSet = []\n",
    "    for logIdx in range(len(logs)):\n",
    "        data = getData(logIdx, logs)\n",
    "        sizeSet.append(len(data))\n",
    "        currTime = time.time()\n",
    "\n",
    "        data.sort()\n",
    "        \n",
    "        endTime = time.time()\n",
    "        timeSet.append(endTime - currTime)\n",
    "        # print(\"curr log: %d, time spent: %d, total time: %d\" %(logIdx, endTime - currTime, endTime - totalStart))\n",
    "\n",
    "    return sizeSet, timeSet\n",
    "    # print()\n",
    "    "
   ]
  },
  {
   "cell_type": "markdown",
   "metadata": {},
   "source": [
    "#### Data set A"
   ]
  },
  {
   "cell_type": "code",
   "execution_count": 32,
   "metadata": {},
   "outputs": [],
   "source": [
    "sizeSetA, timeSetA = testTim(logsA)"
   ]
  },
  {
   "cell_type": "code",
   "execution_count": 33,
   "metadata": {},
   "outputs": [
    {
     "data": {
      "image/png": "[encoded data removed]",
      "text/plain": [
       "<Figure size 432x288 with 1 Axes>"
      ]
     },
     "metadata": {
      "needs_background": "light"
     },
     "output_type": "display_data"
    }
   ],
   "source": [
    "plot(sizeSetA, timeSetA)"
   ]
  },
  {
   "cell_type": "markdown",
   "metadata": {},
   "source": [
    "#### Data set B"
   ]
  },
  {
   "cell_type": "code",
   "execution_count": 34,
   "metadata": {},
   "outputs": [],
   "source": [
    "sizeSetB, timeSetB = testTim(logsB)"
   ]
  },
  {
   "cell_type": "code",
   "execution_count": 35,
   "metadata": {},
   "outputs": [
    {
     "data": {
      "image/png": "[encoded data removed]",
      "text/plain": [
       "<Figure size 432x288 with 1 Axes>"
      ]
     },
     "metadata": {
      "needs_background": "light"
     },
     "output_type": "display_data"
    }
   ],
   "source": [
    "plot(sizeSetB, timeSetB)"
   ]
  },
  {
   "cell_type": "markdown",
   "metadata": {},
   "source": [
    "#### Data set C"
   ]
  },
  {
   "cell_type": "code",
   "execution_count": 36,
   "metadata": {},
   "outputs": [],
   "source": [
    "sizeSetC, timeSetC = testTim(logsC)"
   ]
  },
  {
   "cell_type": "code",
   "execution_count": 37,
   "metadata": {},
   "outputs": [
    {
     "data": {
      "image/png": "[encoded data removed]",
      "text/plain": [
       "<Figure size 432x288 with 1 Axes>"
      ]
     },
     "metadata": {
      "needs_background": "light"
     },
     "output_type": "display_data"
    }
   ],
   "source": [
    "plot(sizeSetC, timeSetC)"
   ]
  }
 ],
 "metadata": {
  "interpreter": {
   "hash": "3d894767a748ae32987cbebeaec93efb51fe7a630f5d0166a60f00b04d640165"
  },
  "kernelspec": {
   "display_name": "Python 3.8.8 ('base')",
   "language": "python",
   "name": "python3"
  },
  "language_info": {
   "codemirror_mode": {
    "name": "ipython",
    "version": 3
   },
   "file_extension": ".py",
   "mimetype": "text/x-python",
   "name": "python",
   "nbconvert_exporter": "python",
   "pygments_lexer": "ipython3",
   "version": "3.8.8"
  },
  "orig_nbformat": 4
 },
 "nbformat": 4,
 "nbformat_minor": 2
}
