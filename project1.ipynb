{
 "cells": [
  {
   "cell_type": "markdown",
   "metadata": {},
   "source": [
    "# Project 1"
   ]
  },
  {
   "cell_type": "markdown",
   "metadata": {},
   "source": [
    "## Data preprocess"
   ]
  },
  {
   "cell_type": "code",
   "execution_count": 1,
   "metadata": {},
   "outputs": [],
   "source": [
    "# get all data dir and write to unzip.sh\n",
    "import os\n",
    "import time\n",
    "# import matplotlib\n",
    "from matplotlib import pyplot as plt\n",
    "import sorting"
   ]
  },
  {
   "cell_type": "code",
   "execution_count": 2,
   "metadata": {},
   "outputs": [],
   "source": [
    "path = \"/Users/liyi/Desktop/Graduate/Spring2022/CSC505Algorithm/Project/project1/project1_data/Project1\"\n",
    "\n",
    "f = open(\"unzip.sh\", \"a\")\n",
    "\n",
    "listOfFiles = list()\n",
    "for (dirpath, dirnames, filenames) in os.walk(path):\n",
    "    listOfFiles += [os.path.join(dirpath, file) for file in filenames]\n",
    "\n",
    "for file in listOfFiles:\n",
    "    f.write(\"gunzip \" + file + \"\\n\")\n",
    "\n",
    "f.close()"
   ]
  },
  {
   "cell_type": "markdown",
   "metadata": {},
   "source": [
    "## Data process"
   ]
  },
  {
   "cell_type": "code",
   "execution_count": 3,
   "metadata": {},
   "outputs": [],
   "source": [
    "# utility func to get all data file\n",
    "pathA = path+\"/A\"\n",
    "pathB = path+\"/B\"\n",
    "pathC = path+\"/C\"\n",
    "\n",
    "logsA = list()\n",
    "logsB = list()\n",
    "logsC = list()\n",
    "for (dirpath, dirnames, filenames) in os.walk(pathA):\n",
    "    logsA += [os.path.join(dirpath, file) for file in filenames]\n",
    "\n",
    "for (dirpath, dirnames, filenames) in os.walk(pathB):\n",
    "    logsB += [os.path.join(dirpath, file) for file in filenames]\n",
    "\n",
    "for (dirpath, dirnames, filenames) in os.walk(pathC):\n",
    "    logsC += [os.path.join(dirpath, file) for file in filenames]\n",
    "\n",
    "lenA = len(logsA)\n",
    "lenB = len(logsB)\n",
    "lenC = len(logsC)\n",
    "# print(lenA + lenB + lenC)"
   ]
  },
  {
   "cell_type": "markdown",
   "metadata": {},
   "source": [
    "### Utility: Get data"
   ]
  },
  {
   "cell_type": "code",
   "execution_count": 4,
   "metadata": {},
   "outputs": [],
   "source": [
    "#utility func to get data from target log\n",
    "#input: logFile index, logFile paths\n",
    "#output: data array\n",
    "def getData(idx, pathlist):\n",
    "    length = len(pathlist)\n",
    "    if(idx < 0 or idx >= length):\n",
    "        print(\"index out of bound: \", idx)\n",
    "        return None\n",
    "\n",
    "    data = []\n",
    "\n",
    "    path = pathlist[idx]\n",
    "    with open(path, \"r\", encoding = 'iso8859_15') as currLog:\n",
    "        for line in currLog:\n",
    "            data.append(line)\n",
    "\n",
    "    return data"
   ]
  },
  {
   "cell_type": "markdown",
   "metadata": {},
   "source": [
    "### Utility: plot chart"
   ]
  },
  {
   "cell_type": "code",
   "execution_count": 5,
   "metadata": {},
   "outputs": [],
   "source": [
    "def plot(xSet, ySet):\n",
    "    # plt.plot(sizeSet, timeSet)   #, label='y = x'\n",
    "    plt.scatter(xSet, ySet)\n",
    "    plt.title('Adaptive sort on data set A')\n",
    "    plt.xlabel('Input size')\n",
    "    plt.ylabel('Time spent')\n",
    "    plt.show()"
   ]
  },
  {
   "cell_type": "markdown",
   "metadata": {},
   "source": [
    "## Insertion sort"
   ]
  },
  {
   "cell_type": "markdown",
   "metadata": {},
   "source": [
    "mark\n"
   ]
  },
  {
   "cell_type": "code",
   "execution_count": 6,
   "metadata": {},
   "outputs": [],
   "source": [
    "# print(logsA)"
   ]
  },
  {
   "cell_type": "code",
   "execution_count": 7,
   "metadata": {},
   "outputs": [],
   "source": [
    "# for idx in range(lenA):\n",
    "#     data = getData(idx, logsA)\n",
    "#     print(len(data))"
   ]
  },
  {
   "cell_type": "code",
   "execution_count": 8,
   "metadata": {},
   "outputs": [],
   "source": [
    "# len(logsA)"
   ]
  },
  {
   "cell_type": "markdown",
   "metadata": {},
   "source": [
    "## Merge sort"
   ]
  },
  {
   "cell_type": "markdown",
   "metadata": {},
   "source": [
    "### Utility: test data set"
   ]
  },
  {
   "cell_type": "code",
   "execution_count": 18,
   "metadata": {},
   "outputs": [],
   "source": [
    "def test(logs):\n",
    "    sizeSet = []\n",
    "    timeSet = []\n",
    "    for logIdx in range(len(logs)):\n",
    "        data = getData(logIdx, logs)\n",
    "        sizeSet.append(len(data))\n",
    "        currTime = time.time()\n",
    "\n",
    "        sorting.merge(data)\n",
    "        \n",
    "        endTime = time.time()\n",
    "        timeSet.append(endTime - currTime)\n",
    "        # print(\"curr log: %d, time spent: %d, total time: %d\" %(logIdx, endTime - currTime, endTime - totalStart))\n",
    "\n",
    "    return sizeSet, timeSet\n",
    "    # print()\n",
    "    "
   ]
  },
  {
   "cell_type": "markdown",
   "metadata": {},
   "source": [
    "#### Data set A"
   ]
  },
  {
   "cell_type": "code",
   "execution_count": 20,
   "metadata": {},
   "outputs": [],
   "source": [
    "sizeSetA, timeSetA = test(logsA)"
   ]
  },
  {
   "cell_type": "code",
   "execution_count": 21,
   "metadata": {},
   "outputs": [
    {
     "data": {
      "image/png": "[encoded data removed]",
      "text/plain": [
       "<Figure size 432x288 with 1 Axes>"
      ]
     },
     "metadata": {
      "needs_background": "light"
     },
     "output_type": "display_data"
    }
   ],
   "source": [
    "plot(sizeSetA, timeSetA)"
   ]
  },
  {
   "cell_type": "markdown",
   "metadata": {},
   "source": [
    "#### Data set B"
   ]
  },
  {
   "cell_type": "code",
   "execution_count": 22,
   "metadata": {},
   "outputs": [],
   "source": [
    "sizeSetB, timeSetB = test(logsB)"
   ]
  },
  {
   "cell_type": "code",
   "execution_count": 23,
   "metadata": {},
   "outputs": [
    {
     "data": {
      "image/png": "[encoded data removed]",
      "text/plain": [
       "<Figure size 432x288 with 1 Axes>"
      ]
     },
     "metadata": {
      "needs_background": "light"
     },
     "output_type": "display_data"
    }
   ],
   "source": [
    "plot(sizeSetB, timeSetB)"
   ]
  },
  {
   "cell_type": "markdown",
   "metadata": {},
   "source": [
    "#### Data set C"
   ]
  },
  {
   "cell_type": "code",
   "execution_count": 24,
   "metadata": {},
   "outputs": [],
   "source": [
    "sizeSetC, timeSetC = test(logsC)"
   ]
  },
  {
   "cell_type": "code",
   "execution_count": 25,
   "metadata": {},
   "outputs": [
    {
     "data": {
      "image/png": "[encoded data removed]",
      "text/plain": [
       "<Figure size 432x288 with 1 Axes>"
      ]
     },
     "metadata": {
      "needs_background": "light"
     },
     "output_type": "display_data"
    }
   ],
   "source": [
    "plot(sizeSetC, timeSetC)"
   ]
  },
  {
   "cell_type": "markdown",
   "metadata": {},
   "source": [
    "## Adaptive sort\n",
    "Using python built-in sort() algorithm which is Timsort"
   ]
  },
  {
   "cell_type": "markdown",
   "metadata": {},
   "source": [
    "### Utility: test data set"
   ]
  },
  {
   "cell_type": "code",
   "execution_count": 11,
   "metadata": {},
   "outputs": [],
   "source": [
    "def test(logs):\n",
    "    sizeSet = []\n",
    "    timeSet = []\n",
    "    for logIdx in range(len(logs)):\n",
    "        data = getData(logIdx, logs)\n",
    "        sizeSet.append(len(data))\n",
    "        currTime = time.time()\n",
    "\n",
    "        data.sort()\n",
    "        \n",
    "        endTime = time.time()\n",
    "        timeSet.append(endTime - currTime)\n",
    "        # print(\"curr log: %d, time spent: %d, total time: %d\" %(logIdx, endTime - currTime, endTime - totalStart))\n",
    "\n",
    "    return sizeSet, timeSet\n",
    "    # print()\n",
    "    "
   ]
  },
  {
   "cell_type": "markdown",
   "metadata": {},
   "source": [
    "#### Data set A"
   ]
  },
  {
   "cell_type": "code",
   "execution_count": 12,
   "metadata": {},
   "outputs": [],
   "source": [
    "sizeSetA, timeSetA = test(logsA)"
   ]
  },
  {
   "cell_type": "code",
   "execution_count": 13,
   "metadata": {},
   "outputs": [
    {
     "data": {
      "image/png": "[encoded data removed]",
      "text/plain": [
       "<Figure size 432x288 with 1 Axes>"
      ]
     },
     "metadata": {
      "needs_background": "light"
     },
     "output_type": "display_data"
    }
   ],
   "source": [
    "plot(sizeSetA, timeSetA)"
   ]
  },
  {
   "cell_type": "markdown",
   "metadata": {},
   "source": [
    "#### Data set B"
   ]
  },
  {
   "cell_type": "code",
   "execution_count": 14,
   "metadata": {},
   "outputs": [],
   "source": [
    "sizeSetB, timeSetB = test(logsB)"
   ]
  },
  {
   "cell_type": "code",
   "execution_count": 15,
   "metadata": {},
   "outputs": [
    {
     "data": {
      "image/png": "[encoded data removed]",
      "text/plain": [
       "<Figure size 432x288 with 1 Axes>"
      ]
     },
     "metadata": {
      "needs_background": "light"
     },
     "output_type": "display_data"
    }
   ],
   "source": [
    "plot(sizeSetB, timeSetB)"
   ]
  },
  {
   "cell_type": "markdown",
   "metadata": {},
   "source": [
    "#### Data set C"
   ]
  },
  {
   "cell_type": "code",
   "execution_count": 16,
   "metadata": {},
   "outputs": [],
   "source": [
    "sizeSetC, timeSetC = test(logsC)"
   ]
  },
  {
   "cell_type": "code",
   "execution_count": 17,
   "metadata": {},
   "outputs": [
    {
     "data": {
      "image/png": "[encoded data removed]",
      "text/plain": [
       "<Figure size 432x288 with 1 Axes>"
      ]
     },
     "metadata": {
      "needs_background": "light"
     },
     "output_type": "display_data"
    }
   ],
   "source": [
    "plot(sizeSetC, timeSetC)"
   ]
  }
 ],
 "metadata": {
  "interpreter": {
   "hash": "3d894767a748ae32987cbebeaec93efb51fe7a630f5d0166a60f00b04d640165"
  },
  "kernelspec": {
   "display_name": "Python 3.8.8 ('base')",
   "language": "python",
   "name": "python3"
  },
  "language_info": {
   "codemirror_mode": {
    "name": "ipython",
    "version": 3
   },
   "file_extension": ".py",
   "mimetype": "text/x-python",
   "name": "python",
   "nbconvert_exporter": "python",
   "pygments_lexer": "ipython3",
   "version": "3.8.8"
  },
  "orig_nbformat": 4
 },
 "nbformat": 4,
 "nbformat_minor": 2
}
